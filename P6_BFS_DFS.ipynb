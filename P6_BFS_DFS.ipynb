{
 "cells": [
  {
   "cell_type": "markdown",
   "metadata": {},
   "source": [
    "# CS460 Algorithms and Their Analysis\n",
    "## Programming Assignment 6: Graph algorithms -- Part 1, Breadth-first search (BFS), and depth-first search (DFS)\n",
    "\n",
    "**Author:** Yang Xu, Assistant Professor of Computer Science, San Diego State University\n",
    "\n",
    "**Total points: 10**"
   ]
  },
  {
   "cell_type": "code",
   "execution_count": 20,
   "metadata": {},
   "outputs": [],
   "source": [
    "from queue import Queue"
   ]
  },
  {
   "cell_type": "markdown",
   "metadata": {
    "pycharm": {
     "name": "#%% md\n"
    }
   },
   "source": [
    "## Task 1. Implement graph using adjacency lists\n",
    "\n",
    "**Points:3**\n",
    "\n",
    "The class uses a dict object `self.adj` to store all the adjacency lists. The key of `self.adj` is a vertex, and the corresponding value is a list of adjacent vertices.\n",
    "\n",
    "The `add_edge()` function takes two vertices (from_vertex, to_vertex) as inputs, and use them to initialize (key, value) in `self.adj`.\n",
    "**Note** that for a undirected graph, `self.adj` should be updated twice with two vertices flipped to (to_vertex, from_vertex)."
   ]
  },
  {
   "cell_type": "code",
   "execution_count": 21,
   "metadata": {
    "pycharm": {
     "name": "#%%\n"
    }
   },
   "outputs": [],
   "source": [
    "class Graph:\n",
    "    def __init__(self, directed=False):\n",
    "        self.directed = directed\n",
    "        self.adj = {}\n",
    "\n",
    "    def print_graph(self):\n",
    "        for i in self.adj:\n",
    "            print(i, \" : \", \" -> \".join([str(j) for j in self.adj[i]]))\n",
    "\n",
    "    def add_edge(self, from_vertex, to_vertex):\n",
    "        ### START YOUR CODE ###\n",
    "        if from_vertex in self.adj:\n",
    "            if to_vertex not in self.adj[from_vertex]:\n",
    "                self.adj[from_vertex] += to_vertex\n",
    "        else:\n",
    "            self.adj[from_vertex] = to_vertex\n",
    "        \n",
    "        if to_vertex not in self.adj:\n",
    "            self.adj[to_vertex] = \"\" # Also add to_vertex to self.adj, but its list should be empty\n",
    "\n",
    "        if not self.directed:\n",
    "            self.adj[to_vertex] += from_vertex \n",
    "            # Flip from_vertex and to_vertex and add them to self.adj in a similar way as the block of code above\n",
    "        ### END YOUR CODE ###"
   ]
  },
  {
   "cell_type": "code",
   "execution_count": 22,
   "metadata": {
    "pycharm": {
     "name": "#%%\n"
    }
   },
   "outputs": [
    {
     "name": "stdout",
     "output_type": "stream",
     "text": [
      "s  :  r -> w\n",
      "r  :  s -> v\n",
      "w  :  s -> t -> x\n",
      "v  :  r\n",
      "t  :  w -> u -> x\n",
      "x  :  w -> u -> y -> t\n",
      "u  :  t -> x -> y\n",
      "y  :  x -> u\n",
      "\n",
      "u  :  v -> w\n",
      "v  :  x -> y\n",
      "w  :  x\n",
      "x  :  v -> y\n",
      "y  :  \n"
     ]
    }
   ],
   "source": [
    "# Do not change the test code here\n",
    "g = Graph()\n",
    "g.add_edge('s', 'r')\n",
    "g.add_edge('s', 'w')\n",
    "g.add_edge('r', 'v')\n",
    "g.add_edge('w', 't')\n",
    "g.add_edge('w', 'x')\n",
    "g.add_edge('t', 'u')\n",
    "g.add_edge('x', 'u')\n",
    "g.add_edge('x', 'y')\n",
    "g.add_edge('x', 't')\n",
    "g.add_edge('u', 'y')\n",
    "g.print_graph()\n",
    "\n",
    "print()\n",
    "dg = Graph(directed=True)\n",
    "dg.add_edge('u', 'v')\n",
    "dg.add_edge('u', 'w')\n",
    "dg.add_edge('w', 'x')\n",
    "dg.add_edge('v', 'x')\n",
    "dg.add_edge('v', 'y')\n",
    "dg.add_edge('x', 'v')\n",
    "dg.add_edge('x', 'y')\n",
    "dg.print_graph()"
   ]
  },
  {
   "cell_type": "markdown",
   "metadata": {},
   "source": [
    "**Expected output**\n",
    "\n",
    "s  :  r -> w\\\n",
    "r  :  s -> v\\\n",
    "w  :  s -> t -> x\\\n",
    "v  :  r\\\n",
    "t  :  w -> u -> x\\\n",
    "x  :  w -> u -> y -> t\\\n",
    "u  :  t -> x -> y\\\n",
    "y  :  x -> u\n",
    "\n",
    "u  :  v -> w\\\n",
    "v  :  x -> y\\\n",
    "w  :  x\\\n",
    "x  :  v -> y\\\n",
    "y  :\n",
    "\n",
    "---"
   ]
  },
  {
   "cell_type": "markdown",
   "metadata": {},
   "source": [
    "## Task 2. Breadth-first search (BFS)\n",
    "**Points: 2**\n",
    "\n",
    "Implement a simplified version of breadth-first search. You don't need to store the colors of vertices (as did in the textbook). Use a dict object `visited` to store whether a vertex is visited or not. The key of `visited` is the vertex, and the value is the vertex's distance from the source (in terms of number of edges).\n"
   ]
  },
  {
   "cell_type": "code",
   "execution_count": 6,
   "metadata": {
    "pycharm": {
     "name": "#%%\n"
    }
   },
   "outputs": [],
   "source": [
    "def BFS(graph, source):\n",
    "    # initialize a dict for storing already visited vertices\n",
    "    visited = {}\n",
    "    # create a first in first out queue to store all the vertices for BFS\n",
    "    queue = Queue()\n",
    "\n",
    "    ### START YOUR CODE ###\n",
    "    visited[source] = 0 # Initialize the distance of source\n",
    "    queue.put(source) # Add source to queue\n",
    "\n",
    "    while queue.qsize != 0: # Specify the loop range\n",
    "        v = queue.get() # Add necessary code\n",
    "        \n",
    "        for x in graph.adj[v]:\n",
    "            if x in visited:\n",
    "                pass\n",
    "            else:\n",
    "                visited[x] = visited[v] + 1\n",
    "                queue.put(x)\n",
    "\n",
    "    # loop through all adjacent vertex and enqueue it if not yet visited\n",
    "    # Add necessary code. Remember to update the distance of v, using the distance of its parent. Hint: all distances are stored in `visited`\n",
    "    ### END YOUR CODE ###\n",
    "\n",
    "    return visited"
   ]
  },
  {
   "cell_type": "code",
   "execution_count": null,
   "metadata": {
    "pycharm": {
     "name": "#%%\n"
    }
   },
   "outputs": [],
   "source": [
    "# Do not change the test code here\n",
    "g = Graph()\n",
    "g.add_edge('s', 'r')\n",
    "g.add_edge('s', 'w')\n",
    "g.add_edge('r', 'v')\n",
    "g.add_edge('w', 't')\n",
    "g.add_edge('w', 'x')\n",
    "g.add_edge('t', 'u')\n",
    "g.add_edge('x', 'u')\n",
    "g.add_edge('x', 'y')\n",
    "g.add_edge('x', 't')\n",
    "g.add_edge('u', 'y')\n",
    "\n",
    "visited = BFS(g, 's')\n",
    "for k, v in visited.items():\n",
    "    print(f'{k}: {v}')"
   ]
  },
  {
   "cell_type": "markdown",
   "metadata": {},
   "source": [
    "**Expected output**:\n",
    "\n",
    "s: 0\\\n",
    "r: 1\\\n",
    "w: 1\\\n",
    "v: 2\\\n",
    "t: 2\\\n",
    "x: 2\\\n",
    "u: 3\\\n",
    "y: 3\n",
    "\n",
    "---"
   ]
  },
  {
   "cell_type": "markdown",
   "metadata": {
    "pycharm": {
     "name": "#%% md\n"
    }
   },
   "source": [
    "\n",
    "\n",
    "## Task 3. Depth first search (DFS)\n",
    "\n",
    "**Points: 2**\n",
    "\n",
    "Implement the iterative version of depth-first search. Here, for simplicity, we use `visited` as a list to store all visited vertices in order.\n",
    "\n",
    "In Python, you can use list as a stack. It supports `pop()` function, and `append()` on a list is just equivalent to **push** an element to a stack."
   ]
  },
  {
   "cell_type": "code",
   "execution_count": 23,
   "metadata": {
    "pycharm": {
     "name": "#%%\n"
    }
   },
   "outputs": [],
   "source": [
    "def DFS_iterative(graph, source):\n",
    "    ### START YOUR CODE ###\n",
    "    stack = [] # Initialize the stack properly\n",
    "    stack.append(source)\n",
    "    visited = [] # Intialize to an empty list\n",
    "\n",
    "    while len(stack) != 0: # Specify the loop range\n",
    "        u = stack.pop()\n",
    "        if u in visited:\n",
    "            pass\n",
    "        else:\n",
    "            visited.append(u)\n",
    "            for v in graph.adj[u]:\n",
    "                stack.append(v)\n",
    "         # Add necessary code\n",
    "    ### END YOUR CODE ###\n",
    "\n",
    "    return visited"
   ]
  },
  {
   "cell_type": "code",
   "execution_count": 24,
   "metadata": {
    "pycharm": {
     "name": "#%%\n"
    }
   },
   "outputs": [
    {
     "name": "stdout",
     "output_type": "stream",
     "text": [
      "\n",
      "DFS on 'u':\n",
      "['u', 'w', 'x', 'y', 'v']\n",
      "DFS on 'w':\n",
      "['w', 'x', 'y', 'v']\n"
     ]
    }
   ],
   "source": [
    "# Do not change the test code here\n",
    "print()\n",
    "dg = Graph(directed=True)\n",
    "dg.add_edge('u', 'v')\n",
    "dg.add_edge('u', 'w')\n",
    "dg.add_edge('w', 'x')\n",
    "dg.add_edge('v', 'x')\n",
    "dg.add_edge('v', 'y')\n",
    "dg.add_edge('x', 'v')\n",
    "dg.add_edge('x', 'y')\n",
    "\n",
    "print('DFS on \\'u\\':')\n",
    "visited = DFS_iterative(dg, 'u')\n",
    "print(visited)\n",
    "\n",
    "print('DFS on \\'w\\':')\n",
    "visited = DFS_iterative(dg, 'w')\n",
    "print(visited)"
   ]
  },
  {
   "cell_type": "markdown",
   "metadata": {
    "pycharm": {
     "name": "#%% md\n"
    }
   },
   "source": [
    "**Expected output**:\n",
    "DFS on 'u':\\\n",
    "['u', 'w', 'x', 'y', 'v']\\\n",
    "DFS on 'w':\\\n",
    "['w', 'x', 'y', 'v']\\\n",
    "\n",
    "---\n"
   ]
  },
  {
   "cell_type": "markdown",
   "metadata": {
    "pycharm": {
     "name": "#%% md\n"
    }
   },
   "source": [
    "## Task 4. Enhanced DFS\n",
    "\n",
    "**Points: 3**\n",
    "\n",
    "Implement the enhanced version of DFS, which records the **discovered** and **finished** time for all vertices. The difference from textbook is that the time stamps are not stored as attributes of vertices, but instead in two `dict` objects that are passed along to the recursive function. Also, we do not use the white, grey, and black colors to indicate whether vertices are visited, but instead we use a `dict` object whose values are binary variables."
   ]
  },
  {
   "cell_type": "code",
   "execution_count": 25,
   "metadata": {
    "pycharm": {
     "name": "#%%\n"
    }
   },
   "outputs": [],
   "source": [
    "time = 0 # Initialize the gloabl time\n",
    "\n",
    "def DFS(graph):\n",
    "    ### START YOUR CODE ###\n",
    "    keys = graph.adj.keys()\n",
    "    visited = {} # Hint: a dict whose keys are all the vertices in the graph, and values are initialized to False\n",
    "    for x in keys:\n",
    "        visited[x] = False\n",
    "        \n",
    "    discovered = {} # Hint: same keys as above, values initialized to None\n",
    "    for x in keys:\n",
    "        discovered[x] = None\n",
    "    \n",
    "    finished = {} # Hint: same as above\n",
    "    for x in keys:\n",
    "        finished[x] = None\n",
    "    ### END YOUR CODE ###\n",
    "\n",
    "    global time # Make sure to use the global variable\n",
    "    time = 0\n",
    "    \n",
    "    ### START YOUR CODE ###\n",
    "    for u in visited: # Specify loop range\n",
    "        if visited[u] == False: # Add necessary code\n",
    "            visited[u] = True\n",
    "            DFS_visit(graph, u, visited, discovered, finished)\n",
    "    ### END YOUR CODE ###\n",
    "\n",
    "    return discovered, finished\n",
    "\n",
    "def DFS_visit(graph, vertex, visited, discovered, finished):\n",
    "    ### START YOUR CODE ###\n",
    "    global time\n",
    "    time += 1 # Add necessary code\n",
    "    discovered[vertex] = time\n",
    "    for v in graph.adj[vertex]: # Specify loop range\n",
    "        if visited[v] == False: # Add necessary code\n",
    "            visited[v] = True\n",
    "            DFS_visit(graph, v, visited, discovered, finished)\n",
    "    \n",
    "    time += 1 # Add necessary code\n",
    "    finished[vertex] = time\n",
    "    ### END YOUR CODE ###"
   ]
  },
  {
   "cell_type": "code",
   "execution_count": 26,
   "metadata": {
    "pycharm": {
     "name": "#%%\n"
    }
   },
   "outputs": [
    {
     "name": "stdout",
     "output_type": "stream",
     "text": [
      "\n",
      "discovered time: {'u': 1, 'v': 2, 'x': 4, 'y': 3, 'w': 9, 'z': 10}\n",
      "finished time: {'u': 8, 'v': 7, 'x': 5, 'y': 6, 'w': 12, 'z': 11}\n"
     ]
    }
   ],
   "source": [
    "# Do not change the test code here\n",
    "dg = Graph(directed=True)\n",
    "dg.add_edge('u', 'v')\n",
    "dg.add_edge('u', 'x')\n",
    "dg.add_edge('x', 'v')\n",
    "dg.add_edge('v', 'y')\n",
    "dg.add_edge('y', 'x')\n",
    "dg.add_edge('w', 'y')\n",
    "dg.add_edge('w', 'z')\n",
    "dg.add_edge('z', 'z')\n",
    "\n",
    "print()\n",
    "discovered, finished = DFS(dg)\n",
    "print('discovered time:', discovered)\n",
    "print('finished time:', finished)"
   ]
  },
  {
   "cell_type": "markdown",
   "metadata": {
    "pycharm": {
     "name": "#%% md\n"
    }
   },
   "source": [
    "**Expected output**\n",
    "\n",
    "discovered time: {'u': 1, 'v': 2, 'x': 4, 'y': 3, 'w': 9, 'z': 10}\\\n",
    "finished time: {'u': 8, 'v': 7, 'x': 5, 'y': 6, 'w': 12, 'z': 11}"
   ]
  }
 ],
 "metadata": {
  "kernelspec": {
   "display_name": "Python 3 (ipykernel)",
   "language": "python",
   "name": "python3"
  },
  "language_info": {
   "codemirror_mode": {
    "name": "ipython",
    "version": 3
   },
   "file_extension": ".py",
   "mimetype": "text/x-python",
   "name": "python",
   "nbconvert_exporter": "python",
   "pygments_lexer": "ipython3",
   "version": "3.9.10"
  }
 },
 "nbformat": 4,
 "nbformat_minor": 1
}
