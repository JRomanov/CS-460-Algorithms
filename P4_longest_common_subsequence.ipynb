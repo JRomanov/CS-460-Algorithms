{
 "cells": [
  {
   "cell_type": "markdown",
   "metadata": {},
   "source": [
    "# CS460 Algorithms and Their Analysis\n",
    "## Programming Assignment 4: Dynamic programming algorithms -- Longest common subsequence problem\n",
    "\n",
    "**Author:** Yang Xu, Assistant Professor of Computer Science, San Diego State University\n",
    "\n",
    "**Total points: 8**"
   ]
  },
  {
   "cell_type": "markdown",
   "metadata": {},
   "source": [
    "## Task 1: Longest common subsequence problem\n",
    "**Points: 4**\n",
    "\n",
    "Implement the basic solution for longest common subsequence problem, which outputs the length value.\n",
    "\n",
    "**Note:** The 2-d array `L` and its element `L[m][n]` containing the length are returned. `L` will be used for the next task."
   ]
  },
  {
   "cell_type": "code",
   "execution_count": 31,
   "metadata": {
    "pycharm": {
     "name": "#%%\n"
    }
   },
   "outputs": [],
   "source": [
    "def LCS_basic(x, y):\n",
    "    m = len(x)\n",
    "    n = len(y)\n",
    "\n",
    "    # declaring the array for storing the dp values\n",
    "    ### START YOUR CODE ###\n",
    "    L = [[0 for i in range(n+1)] for  i in range(m+1)] # Initialize L to a list of list\n",
    "    ### END YOUR CODE ###\n",
    "\n",
    "    ### START YOUR CODE ###\n",
    "    for i in range(0, m): # Specify the ranges\n",
    "        for j in range(0, n):\n",
    "            if i==0 or j==0:# Implement the if-else structure following the pseudo code\n",
    "                L[i][j] = 0\n",
    "            elif x[i] == y[j]:\n",
    "                L[i][j] = L[i-1][j-1] +1\n",
    "            else:\n",
    "                L[i][j] = max(L[i][j-1][i-1][j])\n",
    "                \n",
    "    ### END YOUR CODE ###\n",
    "\n",
    "    return L, L[m][n]"
   ]
  },
  {
   "cell_type": "code",
   "execution_count": 32,
   "metadata": {
    "pycharm": {
     "name": "#%%\n"
    }
   },
   "outputs": [
    {
     "ename": "TypeError",
     "evalue": "'int' object is not subscriptable",
     "output_type": "error",
     "traceback": [
      "\u001b[1;31m---------------------------------------------------------------------------\u001b[0m",
      "\u001b[1;31mTypeError\u001b[0m                                 Traceback (most recent call last)",
      "Input \u001b[1;32mIn [32]\u001b[0m, in \u001b[0;36m<module>\u001b[1;34m\u001b[0m\n\u001b[0;32m      2\u001b[0m a \u001b[38;5;241m=\u001b[39m \u001b[38;5;124m'\u001b[39m\u001b[38;5;124mAGGTAB\u001b[39m\u001b[38;5;124m'\u001b[39m\n\u001b[0;32m      3\u001b[0m b \u001b[38;5;241m=\u001b[39m \u001b[38;5;124m'\u001b[39m\u001b[38;5;124mGXTXAYB\u001b[39m\u001b[38;5;124m'\u001b[39m\n\u001b[1;32m----> 4\u001b[0m _, length1 \u001b[38;5;241m=\u001b[39m \u001b[43mLCS_basic\u001b[49m\u001b[43m(\u001b[49m\u001b[43ma\u001b[49m\u001b[43m,\u001b[49m\u001b[43m \u001b[49m\u001b[43mb\u001b[49m\u001b[43m)\u001b[49m\n\u001b[0;32m      5\u001b[0m \u001b[38;5;28mprint\u001b[39m(length1)\n\u001b[0;32m      7\u001b[0m aa \u001b[38;5;241m=\u001b[39m \u001b[38;5;124m'\u001b[39m\u001b[38;5;124mACCGGTCGAGTGCGCGGAAGCCGGCCGAA\u001b[39m\u001b[38;5;124m'\u001b[39m\n",
      "Input \u001b[1;32mIn [31]\u001b[0m, in \u001b[0;36mLCS_basic\u001b[1;34m(x, y)\u001b[0m\n\u001b[0;32m     16\u001b[0m             L[i][j] \u001b[38;5;241m=\u001b[39m L[i\u001b[38;5;241m-\u001b[39m\u001b[38;5;241m1\u001b[39m][j\u001b[38;5;241m-\u001b[39m\u001b[38;5;241m1\u001b[39m] \u001b[38;5;241m+\u001b[39m\u001b[38;5;241m1\u001b[39m\n\u001b[0;32m     17\u001b[0m         \u001b[38;5;28;01melse\u001b[39;00m:\n\u001b[1;32m---> 18\u001b[0m             L[i][j] \u001b[38;5;241m=\u001b[39m \u001b[38;5;28mmax\u001b[39m(\u001b[43mL\u001b[49m\u001b[43m[\u001b[49m\u001b[43mi\u001b[49m\u001b[43m]\u001b[49m\u001b[43m[\u001b[49m\u001b[43mj\u001b[49m\u001b[38;5;241;43m-\u001b[39;49m\u001b[38;5;241;43m1\u001b[39;49m\u001b[43m]\u001b[49m\u001b[43m[\u001b[49m\u001b[43mi\u001b[49m\u001b[38;5;241;43m-\u001b[39;49m\u001b[38;5;241;43m1\u001b[39;49m\u001b[43m]\u001b[49m[j])\n\u001b[0;32m     20\u001b[0m \u001b[38;5;66;03m### END YOUR CODE ###\u001b[39;00m\n\u001b[0;32m     22\u001b[0m \u001b[38;5;28;01mreturn\u001b[39;00m L, L[m][n]\n",
      "\u001b[1;31mTypeError\u001b[0m: 'int' object is not subscriptable"
     ]
    }
   ],
   "source": [
    "# Do not change the test code here\n",
    "a = 'AGGTAB'\n",
    "b = 'GXTXAYB'\n",
    "_, length1 = LCS_basic(a, b)\n",
    "print(length1)\n",
    "\n",
    "aa = 'ACCGGTCGAGTGCGCGGAAGCCGGCCGAA'\n",
    "bb = 'GTCGTTCGGAATGCCGTTGCTCTGTAAA'\n",
    "_, length2 = LCS_basic(aa, bb)\n",
    "print(length2)"
   ]
  },
  {
   "cell_type": "markdown",
   "metadata": {},
   "source": [
    "**Expected output**\n",
    "\n",
    "4\\\n",
    "20\n",
    "\n",
    "---"
   ]
  },
  {
   "cell_type": "markdown",
   "metadata": {},
   "source": [
    "## Task 2: Get the string of common subsequence\n",
    "**Points: 4**\n",
    "\n",
    "Given the results from `LCS_basic()`, return the string of common subsequence. Note that this should be an interative algorithm, which is different from the `PRINT-LCS()` procedure in the textbook.\n",
    "\n",
    "*Hint:* It takes the output `L` from the previous function as input. The function uses `seq` to store the common subsequence, and starts at the last characters of `x` and `y`. If two letters match, it will be added to the head of seq. Otherwise up or left."
   ]
  },
  {
   "cell_type": "code",
   "execution_count": null,
   "metadata": {
    "collapsed": true
   },
   "outputs": [],
   "source": [
    "def get_LCS(L, x, y):\n",
    "    m = len(x)\n",
    "    n = len(y)\n",
    "\n",
    "    seq = ''\n",
    "    ### START YOUR CODE ###\n",
    "    i, j = None, None # Initialize correctly\n",
    "    while i > 0 and j > 0:\n",
    "        pass # The code structure here is similar to LCS_basic(), but with different loop order.\n",
    "        ### END YOUR CODE ###\n",
    "\n",
    "    return seq"
   ]
  },
  {
   "cell_type": "code",
   "execution_count": null,
   "metadata": {
    "pycharm": {
     "name": "#%%\n"
    }
   },
   "outputs": [],
   "source": [
    "# Do not change the test code here\n",
    "a = 'AGGTAB'\n",
    "b = 'GXTXAYB'\n",
    "L1, _ = LCS_basic(a, b)\n",
    "lcs1 = get_LCS(L1, a, b)\n",
    "print(lcs1)\n",
    "\n",
    "aa = 'ACCGGTCGAGTGCGCGGAAGCCGGCCGAA'\n",
    "bb = 'GTCGTTCGGAATGCCGTTGCTCTGTAAA'\n",
    "L2, _ = LCS_basic(aa, bb)\n",
    "lcs2 = get_LCS(L2, aa, bb)\n",
    "print(lcs2)"
   ]
  },
  {
   "cell_type": "markdown",
   "metadata": {
    "pycharm": {
     "name": "#%% md\n"
    }
   },
   "source": [
    "**Expected output**:\n",
    "\n",
    "GTAB\n",
    "GTCGTCGGAAGCCGGCCGAA"
   ]
  }
 ],
 "metadata": {
  "kernelspec": {
   "display_name": "Python 3 (ipykernel)",
   "language": "python",
   "name": "python3"
  },
  "language_info": {
   "codemirror_mode": {
    "name": "ipython",
    "version": 3
   },
   "file_extension": ".py",
   "mimetype": "text/x-python",
   "name": "python",
   "nbconvert_exporter": "python",
   "pygments_lexer": "ipython3",
   "version": "3.9.10"
  }
 },
 "nbformat": 4,
 "nbformat_minor": 1
}
