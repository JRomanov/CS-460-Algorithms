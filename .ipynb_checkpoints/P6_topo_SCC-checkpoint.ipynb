{
 "cells": [
  {
   "cell_type": "markdown",
   "metadata": {},
   "source": [
    "# CS460 Algorithms and Their Analysis\n",
    "## Programming Assignment 6: Graph algorithms -- Part 2, Topological Sort and Strongly Connected Components\n",
    "\n",
    "**Author:** Yang Xu, Assistant Professor of Computer Science, San Diego State University\n",
    "\n",
    "**Total points: 10**\n",
    "\n",
    "In this assignment, you will implement the topological sort and strongly connected components algorithms.\n",
    "\n",
    "First, you need to copy the code from previous assignment for the `Graph` class, and the `DFS()`, `DFS_visit()` functions to the following cell. **Note** that the global variable `time` should also be included."
   ]
  },
  {
   "cell_type": "code",
   "execution_count": 17,
   "metadata": {
    "pycharm": {
     "name": "#%%\n"
    }
   },
   "outputs": [],
   "source": [
    "# Copy the code for Graph class to here.\n",
    "class Graph:\n",
    "    def __init__(self, directed=False):\n",
    "        self.directed = directed\n",
    "        self.adj = {}\n",
    "\n",
    "    def print_graph(self):\n",
    "        for i in self.adj:\n",
    "            print(i, \" : \", \" -> \".join([str(j) for j in self.adj[i]]))\n",
    "\n",
    "    def add_edge(self, from_vertex, to_vertex):\n",
    "        ### START YOUR CODE ###\n",
    "        if from_vertex in self.adj:\n",
    "            if to_vertex not in self.adj[from_vertex]:\n",
    "                self.adj[from_vertex].append(to_vertex)\n",
    "        else:\n",
    "            self.adj[from_vertex] = []\n",
    "            self.adj[from_vertex].append(to_vertex)\n",
    "\n",
    "        if to_vertex not in self.adj:\n",
    "            self.adj[to_vertex] = [] # Also add to_vertex to self.adj, but its list should be empty\n",
    "\n",
    "        if not self.directed:\n",
    "            self.adj[to_vertex].append(from_vertex)\n",
    "            # Flip from_vertex and to_vertex and add them to self.adj in a similar way as the block of code above\n",
    "        ### END YOUR CODE ###"
   ]
  },
  {
   "cell_type": "code",
   "execution_count": 18,
   "metadata": {
    "pycharm": {
     "name": "#%%\n"
    }
   },
   "outputs": [],
   "source": [
    "# Copy the code for DFS(), DFS_visit() to here\n",
    "\n",
    "time = 0 # Initialize the gloabl time\n",
    "\n",
    "def DFS(graph):\n",
    "    ### START YOUR CODE ###\n",
    "    keys = graph.adj.keys()\n",
    "    visited = {} # Hint: a dict whose keys are all the vertices in the graph, and values are initialized to False\n",
    "    for x in keys:\n",
    "        visited[x] = False\n",
    "        \n",
    "    discovered = {} # Hint: same keys as above, values initialized to None\n",
    "    for x in keys:\n",
    "        discovered[x] = None\n",
    "    \n",
    "    finished = {} # Hint: same as above\n",
    "    for x in keys:\n",
    "        finished[x] = None\n",
    "    ### END YOUR CODE ###\n",
    "\n",
    "    global time # Make sure to use the global variable\n",
    "    time = 0\n",
    "    \n",
    "    ### START YOUR CODE ###\n",
    "    for u in visited: # Specify loop range\n",
    "        if visited[u] == False: # Add necessary code\n",
    "            visited[u] = True\n",
    "            DFS_visit(graph, u, visited, discovered, finished)\n",
    "    ### END YOUR CODE ###\n",
    "\n",
    "    return discovered, finished\n",
    "\n",
    "def DFS_visit(graph, vertex, visited, discovered, finished):\n",
    "    ### START YOUR CODE ###\n",
    "    global time\n",
    "    time += 1 # Add necessary code\n",
    "    discovered[vertex] = time\n",
    "    for v in graph.adj[vertex]: # Specify loop range\n",
    "        if visited[v] == False: # Add necessary code\n",
    "            visited[v] = True\n",
    "            DFS_visit(graph, v, visited, discovered, finished)\n",
    "    \n",
    "    time += 1 # Add necessary code\n",
    "    finished[vertex] = time\n",
    "    ### END YOUR CODE ###"
   ]
  },
  {
   "cell_type": "markdown",
   "metadata": {},
   "source": [
    "---\n",
    "\n",
    "## Task 1. Topological sort\n",
    "**Points: 2**\n",
    "\n",
    "Implement the `topological_sort()` function. First, call `DFS()` on the graph and record the **finished** time for all vertices. Next, sort the keys of `finished` dict by its values.\n",
    "\n",
    "Note that the expected output is not fixed, i.e., there can be multiple valid results for topological sort.\n",
    "\n",
    "*Hint*: you can use the built-in `sorted()` function and specify the `key` parameter for sorting."
   ]
  },
  {
   "cell_type": "code",
   "execution_count": 21,
   "metadata": {
    "pycharm": {
     "name": "#%%\n"
    }
   },
   "outputs": [],
   "source": [
    "def topological_sort(graph):\n",
    "    ### START YOUR CODE ###\n",
    "    _, finished = DFS(graph) # Call DFS()\n",
    "    sorted_vertices = sorted(finished, key=finished.get) # Sort vertices based on their finished times\n",
    "    sortedDict = {}\n",
    "    \n",
    "    for x in sorted_vertices:\n",
    "        sortedDict[x]=finished[x]\n",
    "        \n",
    "    sorted_vertices = [*sortedDict]\n",
    "    ### END YOUR CODE ###\n",
    "\n",
    "    return sorted_vertices"
   ]
  },
  {
   "cell_type": "markdown",
   "metadata": {
    "pycharm": {
     "name": "#%% md\n"
    }
   },
   "source": [
    "Next, build the directed graph as shown in the figure (a) on page 613 in text book, and apply topological sort on it.\n",
    "\n",
    "<img src=\"topological_sort.png\">"
   ]
  },
  {
   "cell_type": "code",
   "execution_count": 22,
   "metadata": {
    "pycharm": {
     "name": "#%%\n"
    }
   },
   "outputs": [
    {
     "name": "stdout",
     "output_type": "stream",
     "text": [
      "Original graph:\n",
      "undershorts  :  pants -> shoes\n",
      "pants  :  belt -> shoes\n",
      "belt  :  jacket\n",
      "jacket  :  \n",
      "shirt  :  belt -> tie\n",
      "tie  :  jacket\n",
      "socks  :  shoes\n",
      "shoes  :  \n",
      "watch  :  \n",
      "\n",
      "Sorted vertices:\n",
      "['jacket', 'belt', 'shoes', 'pants', 'undershorts', 'tie', 'shirt', 'socks', 'watch']\n"
     ]
    }
   ],
   "source": [
    "# Construct the graph and apply topological sort\n",
    "graph = Graph(directed=True)\n",
    "\n",
    "### START YOUR CODE ###\n",
    "graph.add_edge(\"undershorts\", \"pants\") # Example\n",
    "graph.add_edge(\"pants\", \"belt\") # Add all the edges\n",
    "graph.add_edge(\"belt\", \"jacket\")\n",
    "graph.add_edge(\"shirt\", \"belt\")\n",
    "graph.add_edge(\"shirt\", \"tie\")\n",
    "graph.add_edge(\"tie\", \"jacket\")\n",
    "graph.add_edge(\"socks\", \"shoes\")\n",
    "graph.add_edge(\"undershorts\", \"shoes\")\n",
    "graph.add_edge(\"pants\", \"shoes\")\n",
    "### END YOUR CODE ###\n",
    "\n",
    "# Do not change the code below\n",
    "# Add `watch` manually\n",
    "graph.adj['watch'] = []\n",
    "\n",
    "print('Original graph:')\n",
    "graph.print_graph()\n",
    "\n",
    "print()\n",
    "print('Sorted vertices:')\n",
    "print(topological_sort(graph))"
   ]
  },
  {
   "cell_type": "markdown",
   "metadata": {},
   "source": [
    "**Expected output**\n",
    "\n",
    "Original graph:\\\n",
    "undershorts  :  pants -> shoes\\\n",
    "pants  :  belt -> shoes\\\n",
    "belt  :  jacket\\\n",
    "jacket  :  \\\n",
    "shirt  :  belt -> tie\\\n",
    "tie  :  jacket\\\n",
    "socks  :  shoes\\\n",
    "shoes  :  \\\n",
    "watch  :\n",
    "\n",
    "Sorted vertices:\\\n",
    "['jacket', 'belt', 'shoes', 'pants', 'undershorts', 'tie', 'shirt', 'socks', 'watch']"
   ]
  },
  {
   "cell_type": "markdown",
   "metadata": {
    "pycharm": {
     "name": "#%% md\n"
    }
   },
   "source": [
    "---\n",
    "\n",
    "## Task 2. Strongly connected components\n",
    "**Points: 8**\n",
    "\n",
    "Implement the algorithm for finding the strongly connected components of a directed graph.\n",
    "\n",
    "First, define the function to transpose a graph, that is, to copy all the vertices and reverse all the edges' direction, and return it as a new graph.\n",
    "\n",
    "(**2 points** for this part)"
   ]
  },
  {
   "cell_type": "code",
   "execution_count": 26,
   "metadata": {
    "pycharm": {
     "name": "#%%\n"
    }
   },
   "outputs": [],
   "source": [
    "# Transpose a directed graph: 2 points\n",
    "def transpose_graph(graph):\n",
    "    transposed = Graph(directed=True) # Initialize a new graph\n",
    "\n",
    "    for vertex in graph.adj:\n",
    "        ### START YOUR CODE ###\n",
    "        transposed.adj[vertex] = [] # Initialize all adjacency lists to empty\n",
    "        ### END YOUR CODE ###\n",
    "\n",
    "    for vertex, adjacent_vertices in graph.adj.items():\n",
    "        ### START YOUR CODE ###\n",
    "        for x in adjacent_vertices: # Use a loop to append edges to transposed\n",
    "            transposed.add_edge(x, vertex)\n",
    "        ### END YOUR CODE ###\n",
    "\n",
    "    return transposed"
   ]
  },
  {
   "cell_type": "code",
   "execution_count": 27,
   "metadata": {
    "pycharm": {
     "name": "#%%\n"
    }
   },
   "outputs": [
    {
     "name": "stdout",
     "output_type": "stream",
     "text": [
      "a  :  e\n",
      "b  :  a\n",
      "c  :  b -> d\n",
      "d  :  c\n",
      "e  :  b\n",
      "f  :  b -> e -> g\n",
      "g  :  c -> f\n",
      "h  :  d -> g -> h\n"
     ]
    }
   ],
   "source": [
    "# Do not change the test code here\n",
    "graph2 = Graph(directed=True)\n",
    "graph2.adj = {\n",
    "    'a': ['b'], 'b': ['c', 'e', 'f'], 'c': ['d', 'g'], 'd': ['c', 'h'],\n",
    "    'e': ['a', 'f'], 'f': ['g'], 'g': ['f', 'h'], 'h': ['h']\n",
    "}\n",
    "\n",
    "graph2_transposed = transpose_graph(graph2)\n",
    "graph2_transposed.print_graph()"
   ]
  },
  {
   "cell_type": "markdown",
   "metadata": {
    "pycharm": {
     "name": "#%% md\n"
    }
   },
   "source": [
    "**Expected output**\n",
    "\n",
    "a  :  e\\\n",
    "b  :  a\\\n",
    "c  :  b -> d\\\n",
    "d  :  c\\\n",
    "e  :  b\\\n",
    "f  :  b -> e -> g\\\n",
    "g  :  c -> f\\\n",
    "h  :  d -> g -> h"
   ]
  },
  {
   "cell_type": "markdown",
   "metadata": {},
   "source": [
    "---\n",
    "\n",
    "Next, define the function `find_component()`, which conducts an *implicit* depth-first search that returns all the vertices contained in a strongly connected component.\n",
    "\n",
    "Note that in this function we DO NOT use the previously defined `DFS()` function, but rather we use a recursive version of DFS that append each visited vertex to a `component` list and returns it.\n",
    "\n",
    "(**3 points** for this part)"
   ]
  },
  {
   "cell_type": "code",
   "execution_count": 28,
   "metadata": {
    "pycharm": {
     "name": "#%%\n"
    }
   },
   "outputs": [],
   "source": [
    "def find_component(graph, v, visited):\n",
    "    visited[v] = True\n",
    "    component = [v]\n",
    "\n",
    "    ### START YOUR CODE ###\n",
    "    for u in graph.adj[v]: # Iterate through all adjacent vertices of v\n",
    "        if not visited[u]:\n",
    "            component += find_component(graph, u, visited) # Recursive call\n",
    "    ### END YOUR CODE ###\n",
    "\n",
    "    return component"
   ]
  },
  {
   "cell_type": "code",
   "execution_count": 29,
   "metadata": {
    "pycharm": {
     "name": "#%%\n"
    }
   },
   "outputs": [
    {
     "name": "stdout",
     "output_type": "stream",
     "text": [
      "['a', 'e', 'b']\n"
     ]
    }
   ],
   "source": [
    "# Do not change the test code here\n",
    "visited = {v: False for v in graph2.adj}\n",
    "component = find_component(graph2_transposed, 'a', visited)\n",
    "print(component)"
   ]
  },
  {
   "cell_type": "markdown",
   "metadata": {},
   "source": [
    "**Expected output**\n",
    "['a', 'e', 'b']\n",
    "\n",
    "---"
   ]
  },
  {
   "cell_type": "markdown",
   "metadata": {
    "pycharm": {
     "name": "#%% md\n"
    }
   },
   "source": [
    "Finally, integrate the above defined function into `strongly_connected_components()`, which finds all the strongly components of a graph, and return them as a list of components, where each component is a list of vertices.\n",
    "\n",
    "Within the function, we first call `topological_sort()` on the graph and return `sorted_vertices`, in which all vertices are sorted in the increase order of their finished time. So in the next step we need to call `find_component()` on each element in `sorted_vertices` in reversed order.\n",
    "\n",
    "(**3 points** for this part)"
   ]
  },
  {
   "cell_type": "code",
   "execution_count": 32,
   "metadata": {
    "pycharm": {
     "name": "#%%\n"
    }
   },
   "outputs": [],
   "source": [
    "def strongly_connected_components(graph):\n",
    "    visited = {v: False for v in graph.adj}\n",
    "\n",
    "    ### START YOUR CODE ###\n",
    "    sorted_vertices = topological_sort(graph) # Call topological sort\n",
    "    graph_transposed = transpose_graph(graph) # Transpose the graph\n",
    "    ### END YOUR CODE ###\n",
    "\n",
    "    SCCs = []\n",
    "    ### START YOUR CODE ###\n",
    "    for v in reversed(sorted_vertices): # Specify the order of iteration through sorted_vertices\n",
    "        if not visited[v]:\n",
    "            comp = find_component(graph_transposed, v, visited) # Call find_component()\n",
    "            SCCs.append(comp)\n",
    "    ### END YOUR CODE ###\n",
    "\n",
    "    return SCCs"
   ]
  },
  {
   "cell_type": "code",
   "execution_count": 33,
   "metadata": {
    "pycharm": {
     "name": "#%%\n"
    }
   },
   "outputs": [
    {
     "name": "stdout",
     "output_type": "stream",
     "text": [
      "[['a', 'e', 'b'], ['c', 'd'], ['g', 'f'], ['h']]\n"
     ]
    }
   ],
   "source": [
    "# Do not change the test code here\n",
    "SCCs = strongly_connected_components(graph2)\n",
    "print(SCCs)"
   ]
  },
  {
   "cell_type": "markdown",
   "metadata": {
    "pycharm": {
     "name": "#%% md\n"
    }
   },
   "source": [
    "**Expected output**\n",
    "[['a', 'e', 'b'], ['c', 'd'], ['g', 'f'], ['h']]"
   ]
  }
 ],
 "metadata": {
  "kernelspec": {
   "display_name": "Python 3 (ipykernel)",
   "language": "python",
   "name": "python3"
  },
  "language_info": {
   "codemirror_mode": {
    "name": "ipython",
    "version": 3
   },
   "file_extension": ".py",
   "mimetype": "text/x-python",
   "name": "python",
   "nbconvert_exporter": "python",
   "pygments_lexer": "ipython3",
   "version": "3.9.10"
  }
 },
 "nbformat": 4,
 "nbformat_minor": 1
}
